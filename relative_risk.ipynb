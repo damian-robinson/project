{
 "cells": [
  {
   "cell_type": "code",
   "execution_count": 1,
   "id": "b2f5f14d-f6c2-4258-b867-21c4890e2f8f",
   "metadata": {},
   "outputs": [],
   "source": [
    "# Imports\n",
    "import numpy as np\n",
    "import pandas as pd\n",
    "import csv\n",
    "from pathlib import Path"
   ]
  },
  {
   "cell_type": "code",
   "execution_count": 3,
   "id": "6df5189f-d595-4cd6-84a6-8ef1f3bf7881",
   "metadata": {},
   "outputs": [],
   "source": [
    "# Importing data\n",
    "standard_csv = Path(\"./test.csv\")\n",
    "exp_csv = Path(\"./test2 - Sheet1.csv\")\n",
    "standard_data_set = pd.read_csv(standard_csv, index_col = 'Date', infer_datetime_format = True, parse_dates = True) \n",
    "exp_data_set = pd.read_csv(exp_csv, index_col = 'Date', infer_datetime_format = True, parse_dates = True) "
   ]
  },
  {
   "cell_type": "code",
   "execution_count": 4,
   "id": "b9040e1f-eb0b-4e3b-bc4d-5aa89ea43e43",
   "metadata": {},
   "outputs": [],
   "source": [
    "# Closing is a run of floats that represents the closing cost of a ticker\n",
    "# Control is a float that is what is primarily being compared to \n",
    "def rrcalc(closing,control):\n",
    "    closing_stdev = closing['Close'].std()\n",
    "    return (((control-closing_stdev)/control)*100)"
   ]
  },
  {
   "cell_type": "code",
   "execution_count": 11,
   "id": "f570e34e-b003-4720-853e-bcabb823b995",
   "metadata": {},
   "outputs": [],
   "source": [
    "# Ticker_in takes the closing cost of a particular ticker with a column name: \"Close\"\n",
    "# Name is the title of the ticker\n",
    "# Control is a float that is what is primarily being compared to \n",
    "def profile(ticker_in, name,control):\n",
    "    relative_risk = rrcalc(ticker_in,control)\n",
    "    \n",
    "    if relative_risk >=0 and relative_risk <=20:\n",
    "            #minimal risk\n",
    "        rw = pd.DataFrame([{'Risk Profile': 'Minimal Risk', 'Ticker': name}])\n",
    "    elif relative_risk <= 40 and relative_risk > 20:\n",
    "             # Low risk\n",
    "        rw = pd.DataFrame([{'Risk Profile': 'Low Risk', 'Ticker': name}])\n",
    "    elif relative_risk < 60 and relative_risk >= 41:\n",
    "              #moderate risk\n",
    "        rw = pd.DataFrame([{'Risk Profile': 'Moderate Risk', 'Ticker': name}])\n",
    "    elif relative_risk < 80 and relative_risk >= 61:\n",
    "            # high risk\n",
    "        rw = pd.DataFrame([{'Risk Profile': 'High Risk', 'Ticker': name}])\n",
    "    elif relative_risk <= 100 and relative_risk >= 81:\n",
    "            #maximum risk \n",
    "        rw = pd.DataFrame([{'Risk Profile': 'Maximum Risk', 'Ticker': name}])\n",
    "    else:\n",
    "        rw = pd.DataFrame([{'Risk Profile': 'ERROR', 'Ticker': name}])\n",
    "    return rw"
   ]
  },
  {
   "cell_type": "code",
   "execution_count": 13,
   "id": "3b817c16-ed69-4da2-96e3-d6da9ff4fb0e",
   "metadata": {},
   "outputs": [
    {
     "name": "stdout",
     "output_type": "stream",
     "text": [
      "   Risk Profile              Ticker\n",
      "0  Maximum Risk  insert_ticker_name\n",
      "0  Minimal Risk             control\n"
     ]
    }
   ],
   "source": [
    "# Control must be defined when calling functions\n",
    "df = pd.DataFrame(columns = ['Risk Profile','Ticker'])\n",
    "# Control \n",
    "control= (standard_data_set['Close'].std())\n",
    "df = pd.concat([df, profile(exp_data_set,'insert_ticker_name', control)])\n",
    "df = pd.concat([df, profile(standard_data_set,'control', control)])\n",
    "print(df)"
   ]
  },
  {
   "cell_type": "code",
   "execution_count": null,
   "id": "673166b9-9823-4590-9241-2801cec6df7d",
   "metadata": {},
   "outputs": [],
   "source": [
    "#Step one: Call control= (standard_data_set['Close'].std()) against your control data set \n",
    "#Step two: Call df = pd.concat([df, profile(exp_data_set,'insert_ticker_name', control)]) for each profile"
   ]
  }
 ],
 "metadata": {
  "kernelspec": {
   "display_name": "Python 3 (ipykernel)",
   "language": "python",
   "name": "python3"
  },
  "language_info": {
   "codemirror_mode": {
    "name": "ipython",
    "version": 3
   },
   "file_extension": ".py",
   "mimetype": "text/x-python",
   "name": "python",
   "nbconvert_exporter": "python",
   "pygments_lexer": "ipython3",
   "version": "3.9.13"
  }
 },
 "nbformat": 4,
 "nbformat_minor": 5
}
