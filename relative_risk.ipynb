{
 "cells": [
  {
   "cell_type": "code",
   "execution_count": 10,
   "id": "b2f5f14d-f6c2-4258-b867-21c4890e2f8f",
   "metadata": {},
   "outputs": [],
   "source": [
    "# Imports\n",
    "import numpy as np\n",
    "import pandas as pd\n",
    "import csv\n",
    "from pathlib import Path"
   ]
  },
  {
   "cell_type": "code",
   "execution_count": 19,
   "id": "6df5189f-d595-4cd6-84a6-8ef1f3bf7881",
   "metadata": {},
   "outputs": [],
   "source": [
    "# Importing data\n",
    "aapl_csv = Path('./Data_Sets/AAPL_CSV.csv')\n",
    "ada_csv = Path('./Data_Sets/ADA_CSV.csv')\n",
    "spy_csv = Path('./Data_Sets/SPY_CSV.csv')\n",
    "tsla_csv = Path('./Data_Sets/TSLA_CSV.csv')\n",
    "eth_csv = Path('./Data_Sets/ETH_CSV.csv')\n",
    "btc_csv = Path('./Data_Sets/Bitcoin_CSV.csv')\n",
    "googl_csv = Path('./Data_Sets/googl_csv.csv')\n",
    "sp500_csv = Path('./Data_Sets/sp500_index.csv')\n",
    "#-----------------------------------------------------------\n",
    "aapl_data = pd.read_csv(aapl_csv, index_col = 'Date', infer_datetime_format = True, parse_dates = True) \n",
    "ada_data = pd.read_csv(ada_csv, index_col = 'Date', infer_datetime_format = True, parse_dates = True) \n",
    "spy_data = pd.read_csv(spy_csv, index_col = 'Date', infer_datetime_format = True, parse_dates = True) \n",
    "tsla_data = pd.read_csv(tsla_csv, index_col = 'Date', infer_datetime_format = True, parse_dates = True) \n",
    "eth_data = pd.read_csv(eth_csv, index_col = 'Date', infer_datetime_format = True, parse_dates = True)\n",
    "btc_data = pd.read_csv(btc_csv, index_col = 'Date', infer_datetime_format = True, parse_dates = True)\n",
    "googl_data = pd.read_csv(googl_csv, index_col = 'Date', infer_datetime_format = True, parse_dates = True) \n",
    "sp500_csv = pd.read_csv(sp500_csv ,index_col = 'Date', infer_datetime_format = True, parse_dates = True)"
   ]
  },
  {
   "cell_type": "code",
   "execution_count": 12,
   "id": "a3137513-84ce-43fa-a8ab-96dc12b0712d",
   "metadata": {},
   "outputs": [
    {
     "name": "stdout",
     "output_type": "stream",
     "text": [
      "                      Close\n",
      "Date                       \n",
      "2022-01-03 16:00:00  182.01\n",
      "2022-01-04 16:00:00  179.70\n",
      "2022-01-05 16:00:00  174.92\n",
      "2022-01-06 16:00:00  172.00\n",
      "2022-01-07 16:00:00  172.17\n",
      "...                     ...\n",
      "2023-01-24 16:00:00  142.53\n",
      "2023-01-25 16:00:00  141.86\n",
      "2023-01-26 16:00:00  143.96\n",
      "2023-01-27 16:00:00  145.93\n",
      "2023-01-30 16:00:00  143.00\n",
      "\n",
      "[270 rows x 1 columns]\n"
     ]
    }
   ],
   "source": [
    "# Each data set\n",
    "#print(aapl_data)\n",
    "#print(ada_data)\n",
    "#print(btc_data)\n",
    "#print(eth_data)\n",
    "#print(googl_data)\n",
    "#print(spy_data)\n",
    "#print(tsla_data)"
   ]
  },
  {
   "cell_type": "code",
   "execution_count": 13,
   "id": "b9040e1f-eb0b-4e3b-bc4d-5aa89ea43e43",
   "metadata": {},
   "outputs": [],
   "source": [
    "# Closing is a run of floats that represents the closing cost of a ticker\n",
    "# Control is a float that is what is primarily being compared to \n",
    "def rrcalc(closing,control):\n",
    "    closing_stdev = closing['Close'].std()\n",
    "    return (((control-closing_stdev)/control)*100)"
   ]
  },
  {
   "cell_type": "code",
   "execution_count": 21,
   "id": "f570e34e-b003-4720-853e-bcabb823b995",
   "metadata": {},
   "outputs": [],
   "source": [
    "# Ticker_in takes the closing cost of a particular ticker with a column name: \"Close\"\n",
    "# Name is the title of the ticker\n",
    "# Control is a float that is what is primarily being compared to \n",
    "def profile(ticker_in, name,control):\n",
    "    relative_risk = rrcalc(ticker_in,control)\n",
    "    \n",
    "    if relative_risk >=0 and relative_risk <=20:\n",
    "            #minimal risk\n",
    "        rw = pd.DataFrame([{'Risk Profile': 'Minimal Risk', 'Ticker': name}])\n",
    "    elif relative_risk <= 40 and relative_risk > 20:\n",
    "             # Low risk\n",
    "        rw = pd.DataFrame([{'Risk Profile': 'Low Risk', 'Ticker': name}])\n",
    "    elif relative_risk < 60 and relative_risk >= 41:\n",
    "              #moderate risk\n",
    "        rw = pd.DataFrame([{'Risk Profile': 'Moderate', 'Ticker': name}])\n",
    "    elif relative_risk < 80 and relative_risk >= 61:\n",
    "            # high risk\n",
    "        rw = pd.DataFrame([{'Risk Profile': 'High Risk', 'Ticker': name}])\n",
    "    elif relative_risk <= 100 and relative_risk >= 81:\n",
    "            #maximum risk \n",
    "        rw = pd.DataFrame([{'Risk Profile': 'Maximum Risk', 'Ticker': name}])\n",
    "    else:\n",
    "        rw = pd.DataFrame([{'Risk Profile': 'Unreasonable Risk', 'Ticker': name}])\n",
    "    return rw"
   ]
  },
  {
   "cell_type": "code",
   "execution_count": 22,
   "id": "34f587cd-c360-44b7-8c22-d1354edde83d",
   "metadata": {},
   "outputs": [],
   "source": [
    "# Stanard deviation of each ticker\n",
    "#print(aapl_data.std())\n",
    "#print(ada_data.std())\n",
    "#print(btc_data.std())\n",
    "#print(eth_data.std())\n",
    "#print(googl_data.std())\n",
    "#print(spy_data.std())\n",
    "#print(tsla_data.std())"
   ]
  },
  {
   "cell_type": "code",
   "execution_count": 23,
   "id": "3b817c16-ed69-4da2-96e3-d6da9ff4fb0e",
   "metadata": {},
   "outputs": [
    {
     "name": "stdout",
     "output_type": "stream",
     "text": [
      "        Risk Profile Ticker\n",
      "0           Moderate   AAPL\n",
      "0       Maximum Risk    ADA\n",
      "0  Unreasonable Risk    BTC\n",
      "0  Unreasonable Risk    ETH\n",
      "0       Minimal Risk    SPY\n",
      "0  Unreasonable Risk   TSLA\n"
     ]
    }
   ],
   "source": [
    "# Control must be defined when calling functions\n",
    "df = pd.DataFrame(columns = ['Risk Profile','Ticker'])\n",
    "# Control \n",
    "control= (spy_data['Close'].std())\n",
    "df = pd.concat([df, profile(aapl_data,'AAPL', control)])\n",
    "df = pd.concat([df, profile(ada_data,'ADA', control)])\n",
    "df = pd.concat([df, profile(btc_data,'BTC', control)])\n",
    "df = pd.concat([df, profile(eth_data,'ETH', control)])\n",
    "df = pd.concat([df, profile(spy_data,'SPY', control)])\n",
    "df = pd.concat([df, profile(tsla_data,'TSLA', control)])\n",
    "print(df)"
   ]
  },
  {
   "cell_type": "code",
   "execution_count": 8,
   "id": "673166b9-9823-4590-9241-2801cec6df7d",
   "metadata": {},
   "outputs": [],
   "source": [
    "#Step one: Call control= (standard_data_set['Close'].std()) against your control data set \n",
    "#Step two: Call df = pd.concat([df, profile(exp_data_set,'insert_ticker_name', control)]) for each profile"
   ]
  }
 ],
 "metadata": {
  "kernelspec": {
   "display_name": "Python 3 (ipykernel)",
   "language": "python",
   "name": "python3"
  },
  "language_info": {
   "codemirror_mode": {
    "name": "ipython",
    "version": 3
   },
   "file_extension": ".py",
   "mimetype": "text/x-python",
   "name": "python",
   "nbconvert_exporter": "python",
   "pygments_lexer": "ipython3",
   "version": "3.9.13"
  }
 },
 "nbformat": 4,
 "nbformat_minor": 5
}
