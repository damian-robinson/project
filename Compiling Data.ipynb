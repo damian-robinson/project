{
 "cells": [
  {
   "cell_type": "code",
   "execution_count": 1,
   "id": "0a6a6f04-cc24-4801-a7ae-c109b14277e8",
   "metadata": {},
   "outputs": [],
   "source": [
    "# Imports\n",
    "import pandas as pd\n",
    "from pathlib import Path\n",
    "import numpy as np\n",
    "import datetime as dt\n",
    "import csv"
   ]
  },
  {
   "cell_type": "code",
   "execution_count": 2,
   "id": "caa36f38-1aa1-42c2-b7cf-e27c7fa46897",
   "metadata": {},
   "outputs": [],
   "source": [
    "# Bringing in data\n",
    "AAPL_CSV = Path= (\"./Data_Sets/AAPL_CSV.csv\")\n",
    "ADA_CSV = Path= (\"./Data_Sets/ADA_CSV.csv\")\n",
    "BTC_CSV = Path= (\"./Data_Sets/Bitcoin_CSV.csv\")\n",
    "ETH_CSV = Path= (\"./Data_Sets/ETH_CSV.csv\")\n",
    "SPY_CSV = Path= (\"./Data_Sets/SPY_CSV.csv\")\n",
    "TSLA_CSV = Path= (\"./Data_Sets/TSLA_CSV.csv\")"
   ]
  },
  {
   "cell_type": "code",
   "execution_count": 3,
   "id": "047ef561-9bca-4448-b07c-35c7a21f9322",
   "metadata": {},
   "outputs": [],
   "source": [
    "# Converting data to a dataframe\n",
    "AAPL_df = pd.read_csv(AAPL_CSV, index_col = 'Date',infer_datetime_format=True, parse_dates=True)\n",
    "ADA_df = pd.read_csv(ADA_CSV, index_col = 'Date',infer_datetime_format=True, parse_dates=True)\n",
    "BTC_df = pd.read_csv(BTC_CSV, index_col = 'Date',infer_datetime_format=True, parse_dates=True)\n",
    "ETH_df = pd.read_csv(ETH_CSV, index_col = 'Date',infer_datetime_format=True, parse_dates=True)\n",
    "SPY_df = pd.read_csv(SPY_CSV, index_col = 'Date',infer_datetime_format=True, parse_dates=True)\n",
    "TSLA_df = pd.read_csv(TSLA_CSV, index_col = 'Date',infer_datetime_format=True, parse_dates=True)"
   ]
  },
  {
   "cell_type": "code",
   "execution_count": 4,
   "id": "1a8fa083-fadb-4043-8123-4f504fb958e5",
   "metadata": {},
   "outputs": [],
   "source": [
    "# Cleansing data frames\n",
    "AAPL_df.dropna(inplace=True)\n",
    "ADA_df.dropna(inplace=True)\n",
    "BTC_df.dropna(inplace=True)\n",
    "ETH_df.dropna(inplace=True)\n",
    "SPY_df.dropna(inplace=True)\n",
    "TSLA_df.dropna(inplace=True)"
   ]
  },
  {
   "cell_type": "code",
   "execution_count": 5,
   "id": "1968db5f-d1ec-4d51-90ec-56b3431ff308",
   "metadata": {},
   "outputs": [],
   "source": [
    "# Renaming close column to reflect the security/crypto\n",
    "aapl_col = ['AAPL']\n",
    "ada_col = ['ADA']\n",
    "btc_col = ['BTC']\n",
    "eth_col = ['ETH']\n",
    "spy_col = ['SPY']\n",
    "tsla_col = ['TSLA']\n",
    "\n",
    "AAPL_df.columns = aapl_col\n",
    "ADA_df.columns = ada_col\n",
    "BTC_df.columns = btc_col\n",
    "ETH_df.columns = eth_col\n",
    "SPY_df.columns = spy_col\n",
    "TSLA_df.columns = tsla_col"
   ]
  },
  {
   "cell_type": "code",
   "execution_count": 6,
   "id": "cab81697-45f7-4540-b50a-7aa4084a2133",
   "metadata": {},
   "outputs": [],
   "source": [
    "# Combining dataframes \n",
    "combined_crypto = pd.concat([ADA_df,BTC_df,ETH_df], axis = 'columns', join = 'outer')\n",
    "combined_stock = pd.concat([AAPL_df, SPY_df, TSLA_df], axis = 'columns', join = 'inner')\n"
   ]
  },
  {
   "cell_type": "code",
   "execution_count": 7,
   "id": "586fe116-1715-41f9-aa9c-5ea302325eee",
   "metadata": {},
   "outputs": [],
   "source": [
    "combined_stock.to_csv('./Data_Sets/combined_stock.csv')\n",
    "combined_crypto.to_csv('./Data_Sets/combined_crypto.csv')"
   ]
  },
  {
   "cell_type": "code",
   "execution_count": null,
   "id": "d8602dbc-eafc-4ec0-8239-57bca9844071",
   "metadata": {},
   "outputs": [],
   "source": []
  }
 ],
 "metadata": {
  "kernelspec": {
   "display_name": "Python 3 (ipykernel)",
   "language": "python",
   "name": "python3"
  },
  "language_info": {
   "codemirror_mode": {
    "name": "ipython",
    "version": 3
   },
   "file_extension": ".py",
   "mimetype": "text/x-python",
   "name": "python",
   "nbconvert_exporter": "python",
   "pygments_lexer": "ipython3",
   "version": "3.9.13"
  }
 },
 "nbformat": 4,
 "nbformat_minor": 5
}
