{
 "cells": [
  {
   "cell_type": "code",
   "execution_count": 1,
   "id": "0a6a6f04-cc24-4801-a7ae-c109b14277e8",
   "metadata": {},
   "outputs": [],
   "source": [
    "# Imports\n",
    "import pandas as pd\n",
    "from pathlib import Path\n",
    "import numpy as np\n",
    "import datetime as dt\n",
    "import csv"
   ]
  },
  {
   "cell_type": "code",
   "execution_count": 2,
   "id": "caa36f38-1aa1-42c2-b7cf-e27c7fa46897",
   "metadata": {},
   "outputs": [],
   "source": [
    "# Bringing in data\n",
    "AAPL_CSV = Path= (\"./Data_Sets/AAPL_CSV.csv\")\n",
    "ADA_CSV = Path= (\"./Data_Sets/ADA_CSV.csv\")\n",
    "BTC_CSV = Path= (\"./Data_Sets/Bitcoin_CSV.csv\")\n",
    "ETH_CSV = Path= (\"./Data_Sets/ETH_CSV.csv\")\n",
    "SPY_CSV = Path= (\"./Data_Sets/SPY_CSV.csv\")\n",
    "TSLA_CSV = Path= (\"./Data_Sets/TSLA_CSV.csv\")"
   ]
  },
  {
   "cell_type": "code",
   "execution_count": 3,
   "id": "047ef561-9bca-4448-b07c-35c7a21f9322",
   "metadata": {},
   "outputs": [],
   "source": [
    "# Converting data to a dataframe\n",
    "AAPL_df = pd.read_csv(AAPL_CSV, index_col = 'Date',infer_datetime_format=True, parse_dates=True)\n",
    "ADA_df = pd.read_csv(ADA_CSV, index_col = 'Date',infer_datetime_format=True, parse_dates=True)\n",
    "BTC_df = pd.read_csv(BTC_CSV, index_col = 'Date',infer_datetime_format=True, parse_dates=True)\n",
    "ETH_df = pd.read_csv(ETH_CSV, index_col = 'Date',infer_datetime_format=True, parse_dates=True)\n",
    "SPY_df = pd.read_csv(SPY_CSV, index_col = 'Date',infer_datetime_format=True, parse_dates=True)\n",
    "TSLA_df = pd.read_csv(TSLA_CSV, index_col = 'Date',infer_datetime_format=True, parse_dates=True)"
   ]
  },
  {
   "cell_type": "code",
   "execution_count": 4,
   "id": "1a8fa083-fadb-4043-8123-4f504fb958e5",
   "metadata": {},
   "outputs": [],
   "source": [
    "# Cleansing data frames\n",
    "AAPL_df.dropna(inplace=True)\n",
    "ADA_df.dropna(inplace=True)\n",
    "BTC_df.dropna(inplace=True)\n",
    "ETH_df.dropna(inplace=True)\n",
    "SPY_df.dropna(inplace=True)\n",
    "TSLA_df.dropna(inplace=True)"
   ]
  },
  {
   "cell_type": "code",
   "execution_count": 5,
   "id": "1968db5f-d1ec-4d51-90ec-56b3431ff308",
   "metadata": {},
   "outputs": [],
   "source": [
    "# Renaming close column to reflect the security/crypto\n",
    "aapl_col = ['AAPL']\n",
    "ada_col = ['ADA']\n",
    "btc_col = ['BTC']\n",
    "eth_col = ['ETH']\n",
    "spy_col = ['SPY']\n",
    "tsla_col = ['TSLA']\n",
    "\n",
    "AAPL_df.columns = aapl_col\n",
    "ADA_df.columns = ada_col\n",
    "BTC_df.columns = btc_col\n",
    "ETH_df.columns = eth_col\n",
    "SPY_df.columns = spy_col\n",
    "TSLA_df.columns = tsla_col"
   ]
  },
  {
   "cell_type": "code",
   "execution_count": 8,
   "id": "cab81697-45f7-4540-b50a-7aa4084a2133",
   "metadata": {},
   "outputs": [
    {
     "data": {
      "text/html": [
       "<div>\n",
       "<style scoped>\n",
       "    .dataframe tbody tr th:only-of-type {\n",
       "        vertical-align: middle;\n",
       "    }\n",
       "\n",
       "    .dataframe tbody tr th {\n",
       "        vertical-align: top;\n",
       "    }\n",
       "\n",
       "    .dataframe thead th {\n",
       "        text-align: right;\n",
       "    }\n",
       "</style>\n",
       "<table border=\"1\" class=\"dataframe\">\n",
       "  <thead>\n",
       "    <tr style=\"text-align: right;\">\n",
       "      <th></th>\n",
       "      <th>AAPL</th>\n",
       "      <th>SPY</th>\n",
       "      <th>TSLA</th>\n",
       "    </tr>\n",
       "    <tr>\n",
       "      <th>Date</th>\n",
       "      <th></th>\n",
       "      <th></th>\n",
       "      <th></th>\n",
       "    </tr>\n",
       "  </thead>\n",
       "  <tbody>\n",
       "    <tr>\n",
       "      <th>2022-01-03 16:00:00</th>\n",
       "      <td>182.01</td>\n",
       "      <td>477.71</td>\n",
       "      <td>399.93</td>\n",
       "    </tr>\n",
       "    <tr>\n",
       "      <th>2022-01-04 16:00:00</th>\n",
       "      <td>179.70</td>\n",
       "      <td>477.55</td>\n",
       "      <td>383.20</td>\n",
       "    </tr>\n",
       "    <tr>\n",
       "      <th>2022-01-05 16:00:00</th>\n",
       "      <td>174.92</td>\n",
       "      <td>468.38</td>\n",
       "      <td>362.71</td>\n",
       "    </tr>\n",
       "    <tr>\n",
       "      <th>2022-01-06 16:00:00</th>\n",
       "      <td>172.00</td>\n",
       "      <td>467.94</td>\n",
       "      <td>354.90</td>\n",
       "    </tr>\n",
       "    <tr>\n",
       "      <th>2022-01-07 16:00:00</th>\n",
       "      <td>172.17</td>\n",
       "      <td>466.09</td>\n",
       "      <td>342.32</td>\n",
       "    </tr>\n",
       "  </tbody>\n",
       "</table>\n",
       "</div>"
      ],
      "text/plain": [
       "                       AAPL     SPY    TSLA\n",
       "Date                                       \n",
       "2022-01-03 16:00:00  182.01  477.71  399.93\n",
       "2022-01-04 16:00:00  179.70  477.55  383.20\n",
       "2022-01-05 16:00:00  174.92  468.38  362.71\n",
       "2022-01-06 16:00:00  172.00  467.94  354.90\n",
       "2022-01-07 16:00:00  172.17  466.09  342.32"
      ]
     },
     "execution_count": 8,
     "metadata": {},
     "output_type": "execute_result"
    }
   ],
   "source": [
    "# Combining dataframes \n",
    "combined_crypto = pd.concat([ADA_df,BTC_df,ETH_df], axis = 'columns', join = 'outer')\n",
    "combined_stock = pd.concat([AAPL_df, SPY_df, TSLA_df], axis = 'columns', join = 'inner')\n"
   ]
  },
  {
   "cell_type": "code",
   "execution_count": 12,
   "id": "586fe116-1715-41f9-aa9c-5ea302325eee",
   "metadata": {},
   "outputs": [],
   "source": [
    "combined_stock.to_csv('./Data_Sets/combined_stock.csv')\n",
    "combined_crypto.to_csv('./Data_Sets/combined_crypto.csv')"
   ]
  },
  {
   "cell_type": "code",
   "execution_count": null,
   "id": "d8602dbc-eafc-4ec0-8239-57bca9844071",
   "metadata": {},
   "outputs": [],
   "source": []
  }
 ],
 "metadata": {
  "kernelspec": {
   "display_name": "Python 3 (ipykernel)",
   "language": "python",
   "name": "python3"
  },
  "language_info": {
   "codemirror_mode": {
    "name": "ipython",
    "version": 3
   },
   "file_extension": ".py",
   "mimetype": "text/x-python",
   "name": "python",
   "nbconvert_exporter": "python",
   "pygments_lexer": "ipython3",
   "version": "3.9.13"
  }
 },
 "nbformat": 4,
 "nbformat_minor": 5
}
